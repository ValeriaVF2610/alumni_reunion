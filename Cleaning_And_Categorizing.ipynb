{
 "cells": [
  {
   "cell_type": "code",
   "execution_count": 157,
   "metadata": {},
   "outputs": [],
   "source": [
    "import pandas as pd\n",
    "import numpy as np"
   ]
  },
  {
   "cell_type": "code",
   "execution_count": 158,
   "metadata": {},
   "outputs": [],
   "source": [
    "df = pd.read_csv(\"cleaned_data.csv\")"
   ]
  },
  {
   "cell_type": "code",
   "execution_count": 159,
   "metadata": {},
   "outputs": [],
   "source": [
    "#get rid of incomplete payments and deleted RSVPs\n",
    "df = df[(df[\"RSVP'ed\"] != \"DELETED\") & (df[\"Payment Status\"] == \"COMPLETE\")]\n"
   ]
  },
  {
   "cell_type": "code",
   "execution_count": 160,
   "metadata": {},
   "outputs": [],
   "source": [
    "#Create a refunds column\n",
    "df[\"Refunded\"] = False\n",
    "\n",
    "# Iterate through the DataFrame to flag refunds and their corresponding original transactions\n",
    "for i in range(1, len(df)):\n",
    "    if df.loc[i]['Paid'] < 0:  # Check for refunds\n",
    "        df.at[i, 'Refunded'] = True  # Mark refund row\n",
    "        df.at[i - 1, 'Refunded'] = True  # Also mark the row above it (original transaction)"
   ]
  },
  {
   "cell_type": "code",
   "execution_count": 161,
   "metadata": {},
   "outputs": [
    {
     "name": "stderr",
     "output_type": "stream",
     "text": [
      "C:\\Users\\valer\\AppData\\Local\\Temp\\ipykernel_34656\\2843796707.py:3: UserWarning: Could not infer format, so each element will be parsed individually, falling back to `dateutil`. To ensure parsing is consistent and as-expected, please specify a format.\n",
      "  df[\"Registration Date\"] = pd.to_datetime(df[\"Registration Date\"])  # Convert to datetime\n"
     ]
    }
   ],
   "source": [
    "#Transform the dates to european format\n",
    "\n",
    "df[\"Registration Date\"] = pd.to_datetime(df[\"Registration Date\"])  # Convert to datetime\n",
    "df[\"Registration Date\"] = df[\"Registration Date\"].dt.strftime(\"%d/%m/%Y %H:%M:%S\")  # Format it"
   ]
  },
  {
   "cell_type": "code",
   "execution_count": 162,
   "metadata": {},
   "outputs": [
    {
     "name": "stderr",
     "output_type": "stream",
     "text": [
      "C:\\Users\\valer\\AppData\\Local\\Temp\\ipykernel_34656\\1530286761.py:1: UserWarning: Could not infer format, so each element will be parsed individually, falling back to `dateutil`. To ensure parsing is consistent and as-expected, please specify a format.\n",
      "  df[\"Payment Date\"] = pd.to_datetime(df[\"Payment Date\"])  # Convert to datetime\n"
     ]
    }
   ],
   "source": [
    "df[\"Payment Date\"] = pd.to_datetime(df[\"Payment Date\"])  # Convert to datetime\n",
    "df[\"Payment Date\"] = df[\"Payment Date\"].dt.strftime(\"%d/%m/%Y %H:%M:%S\")  # Format it"
   ]
  },
  {
   "cell_type": "code",
   "execution_count": 163,
   "metadata": {},
   "outputs": [
    {
     "name": "stderr",
     "output_type": "stream",
     "text": [
      "C:\\Users\\valer\\AppData\\Local\\Temp\\ipykernel_34656\\2366052488.py:1: UserWarning: Could not infer format, so each element will be parsed individually, falling back to `dateutil`. To ensure parsing is consistent and as-expected, please specify a format.\n",
      "  df[\"Checked-In Date\"] = pd.to_datetime(df[\"Checked-In Date\"])  # Convert to datetime\n"
     ]
    }
   ],
   "source": [
    "df[\"Checked-In Date\"] = pd.to_datetime(df[\"Checked-In Date\"])  # Convert to datetime\n",
    "df[\"Checked-In Date\"] = df[\"Checked-In Date\"].dt.strftime(\"%d/%m/%Y %H:%M:%S\")  # Format it"
   ]
  },
  {
   "cell_type": "code",
   "execution_count": 164,
   "metadata": {},
   "outputs": [
    {
     "data": {
      "text/plain": [
       "array(['Club Leaders', 'Gala Dinner Spring Sale Ticket - ENDED',\n",
       "       'KIDS AREA TICKET', 'GAW early bird ticket - ENDED',\n",
       "       'Class Reunion Committee Members', 'IE Faculty members',\n",
       "       'GAW TICKET', 'EPIC Awards', 'GALA DINNER TICKET',\n",
       "       'Special Invitation GAW 2024',\n",
       "       'GAW + Gala Dinner Spring Sale Ticket - ENDED',\n",
       "       'GAW Spring Sale Ticket - ENDED', 'Asociados AAA', 'GAR Team',\n",
       "       'Special Invitation Gala 2024', 'Volunteers', 'GAR Team Gala',\n",
       "       'Collaborators', 'GAW + GALA DINNER TICKET'], dtype=object)"
      ]
     },
     "execution_count": 164,
     "metadata": {},
     "output_type": "execute_result"
    }
   ],
   "source": [
    "pd.unique(df[\"Registration Option\"])"
   ]
  },
  {
   "cell_type": "code",
   "execution_count": 165,
   "metadata": {},
   "outputs": [],
   "source": [
    "#Change the names so they are more consistant\n",
    "df[\"Registration Option\"] = df[\"Registration Option\"].replace({\n",
    "    \"Gala Dinner Spring Sale Ticket - ENDED\":\"Gala Dinner Spring Sale Ticket\",\n",
    "    \"KIDS AREA TICKET\":\"Kids Area Ticket\",\n",
    "    \"GAW early bird ticket - ENDED\":\"GAW Early Bird Ticket\",\n",
    "    \"GAW TICKET\":\"GAW Ticket\",\n",
    "    \"GALA DINNER TICKET\":\"Gala Dinner Ticket\",\n",
    "    \"GAW + Gala Dinner Spring Sale Ticket - ENDED\":\"GAW + Gala Dinner Spring Sale Ticket\",\n",
    "    \"GAW Spring Sale Ticket - ENDED\":\"GAW Spring Sale Ticket\",\n",
    "    \"GAW + GALA DINNER TICKET\":\"GAW + Gala Dinner Ticket\"\n",
    "})"
   ]
  },
  {
   "cell_type": "code",
   "execution_count": 166,
   "metadata": {},
   "outputs": [],
   "source": [
    "#Classify the tickets\n",
    "\n",
    "gaw_tickets = ['Club Leaders','GAW Early Bird Ticket',\n",
    "    'Class Reunion Committee Members', 'IE Faculty members',\n",
    "    'GAW Ticket', 'EPIC Awards',\n",
    "    'Special Invitation GAW 2024',\n",
    "    'GAW + Gala Dinner Spring Sale Ticket', 'GAW Spring Sale Ticket',\n",
    "    'Asociados AAA', 'GAR Team',\n",
    "    'GAW + Gala Dinner Ticket']\n",
    "\n",
    "gala_tickets = ['Gala Dinner Spring Sale Ticket',\n",
    "    'EPIC Awards', 'Gala Dinner Ticket',\n",
    "    'GAW + Gala Dinner Spring Sale Ticket',\n",
    "    'Special Invitation Gala 2024',\n",
    "    'GAR Team Gala','GAW + Gala Dinner Ticket']\n",
    "\n",
    "kid_tickets = [\"Kids Area Ticket\"]\n",
    "\n",
    "other_tickets = ['Volunteers', 'Collaborators']"
   ]
  },
  {
   "cell_type": "code",
   "execution_count": 167,
   "metadata": {},
   "outputs": [],
   "source": [
    "# Create new columns using the lists\n",
    "df[\"GAW\"] = df[\"Registration Option\"].isin([x for x in gaw_tickets]).astype(int)\n",
    "df[\"GALA\"] = df[\"Registration Option\"].isin([x for x in gala_tickets]).astype(int)\n",
    "df[\"KID\"] = df[\"Registration Option\"].isin([x for x in kid_tickets]).astype(int)\n",
    "df[\"OTHER\"] = df[\"Registration Option\"].isin([x for x in other_tickets]).astype(int)"
   ]
  },
  {
   "cell_type": "code",
   "execution_count": 168,
   "metadata": {},
   "outputs": [],
   "source": [
    "# Drop irrelevant columns\n",
    "df = df.drop(\n",
    "    [\n",
    "    \"Section (please, type N/A if this is not applicable to your program)\",\n",
    "    \"Attendee's Comment\", \"Officer's Notes\", \"Quantity\", \"Unnamed: 40\"\n",
    "    ],\n",
    "    axis=\"columns\"\n",
    ")"
   ]
  },
  {
   "cell_type": "code",
   "execution_count": 169,
   "metadata": {},
   "outputs": [],
   "source": [
    "#Change type of paid to int as there's no decimals\n",
    "df[\"Paid\"] = df[\"Paid\"].astype(\"int64\")"
   ]
  },
  {
   "cell_type": "code",
   "execution_count": 170,
   "metadata": {},
   "outputs": [],
   "source": [
    "#Categorize countries into regions\n",
    "\n",
    "region_mapping = {\n",
    "    \"North America\": [\"Canada\", \"United States Of America\", \"Mexico\", \"Puerto Rico\"],\n",
    "    \"South America\": [\"Brazil\", \"Argentina\", \"Colombia\", \"Chile\", \"Peru\", \"Ecuador\", \"Uruguay\", \"Venezuela\", \"Bolivia\"],\n",
    "    \"Europe\": [\"Spain\", \"United Kingdom\", \"Germany\", \"France\", \"Switzerland\", \"Ireland\", \"Italy\", \"Portugal\",\n",
    "            \"Netherlands\", \"Belgium\", \"Luxembourg\", \"Austria\", \"Sweden\", \"Finland\", \"Denmark\", \"Norway\", \n",
    "            \"Poland\", \"Czech Republic\", \"Hungary\", \"Lithuania\", \"Latvia\", \"Romania\", \"Bulgaria\", \"Russia\",\n",
    "            \"Belarus\", \"Ukraine\", \"Monaco\", \"Georgia\", \"Croatia\", \"Greece\"],\n",
    "    \"Middle East\": [\"United Arab Emirates\", \"Saudi Arabia\", \"Qatar\", \"Kuwait\", \"Bahrain\", \"Lebanon\", \"Israel\", \"Afganistan\"],\n",
    "    \"Africa\": [\"South Africa\", \"Nigeria\", \"Algeria\", \"Egypt\", \"Ghana\", \"Namibia\", \"Liberia\", \"Kenya\", \"Burkina Faso\"],\n",
    "    \"Asia & Oceania\": [\"India\", \"China\", \"Japan\", \"South Korea\", \"Bangladesh\", \"Kazakhstan\", \"Azerbaijan\", \"Singapore\", \n",
    "            \"Thailand\", \"Philippines\", \"Hong Kong\", \"Turkey\", \"Afghanistan\", \"Kyrgyztan\", \"Australia\"],\n",
    "    \"Central America & Caribbean\": [\"Costa Rica\", \"Jamaica\", \"Dominican Republic\"],\n",
    "}"
   ]
  },
  {
   "cell_type": "code",
   "execution_count": 171,
   "metadata": {},
   "outputs": [],
   "source": [
    "#Classifying function \n",
    "\n",
    "def get_region(country):\n",
    "    for region, countries in region_mapping.items():\n",
    "        if country in countries:\n",
    "            return region\n",
    "    return \"Other\""
   ]
  },
  {
   "cell_type": "code",
   "execution_count": 172,
   "metadata": {},
   "outputs": [],
   "source": [
    "#Apply function to create new column\n",
    "\n",
    "df[\"Region\"] = df[\"Country\"].apply(lambda x: get_region(str(x)) if pd.notna(x) else \"Unknown\")"
   ]
  },
  {
   "cell_type": "code",
   "execution_count": 173,
   "metadata": {},
   "outputs": [],
   "source": [
    "#Put region next to country\n",
    "col_order = df.columns.tolist()\n",
    "col_order.insert(col_order.index(\"Country\") + 1, col_order.pop(col_order.index(\"Region\")))\n",
    "df = df[col_order]"
   ]
  },
  {
   "cell_type": "code",
   "execution_count": 174,
   "metadata": {},
   "outputs": [
    {
     "data": {
      "text/plain": [
       "Index(['Account Type', 'Member Tags', 'User Tags', 'RSVP'ed',\n",
       "       'Registration Date', 'Registration Option', 'Are you an IE Alumni?',\n",
       "       'Year of graduation', 'Degree', 'Country', 'Region',\n",
       "       'I'm interested in networking around ... (please choose one)',\n",
       "       'Please let us know if you have any allergies or dietary restrictions:',\n",
       "       'Which roles are you most interested in? (Mark all that apply)', 'Paid',\n",
       "       'Payment Status', 'Payment Date', 'Checked-In Date', 'Net ID',\n",
       "       'Gateway Number', 'Event Registration UID', 'Refunded', 'GAW', 'GALA',\n",
       "       'KID', 'OTHER'],\n",
       "      dtype='object')"
      ]
     },
     "execution_count": 174,
     "metadata": {},
     "output_type": "execute_result"
    }
   ],
   "source": [
    "df.columns"
   ]
  },
  {
   "cell_type": "code",
   "execution_count": 175,
   "metadata": {},
   "outputs": [],
   "source": [
    "#Rename columns\n",
    "column_rename_map = {\n",
    "    'Account Type': 'account_type',\n",
    "    'Member Tags': 'member_tags',\n",
    "    'User Tags': 'user_tags',\n",
    "    \"RSVP'ed\": 'rsvp',\n",
    "    'Registration Date': 'registration_date',\n",
    "    'Registration Option': 'registration_option',\n",
    "    'Are you an IE Alumni?': 'ie_alumni',\n",
    "    'Year of graduation': 'graduation_year',\n",
    "    'Degree': 'degree',\n",
    "    'Country': 'country',\n",
    "    'Region': 'region',\n",
    "    \"I'm interested in networking around ... (please choose one)\": 'networking_preference',\n",
    "    'Please let us know if you have any allergies or dietary restrictions:': 'allergies_dietary_restrictions',\n",
    "    'Which roles are you most interested in? (Mark all that apply)': 'volunteer_roles',\n",
    "    'Paid': 'paid',\n",
    "    'Payment Status': 'payment_status',\n",
    "    'Payment Date': 'payment_date',\n",
    "    'Checked-In Date': 'checked_in_date',\n",
    "    'Net ID': 'net_id',\n",
    "    'Gateway Number': 'gateway_number',\n",
    "    'Event Registration UID': 'event_registration_uid',\n",
    "    'Refunded': 'refunded',\n",
    "    'GAW': 'gaw',\n",
    "    'GALA': 'gala',\n",
    "    'KID': 'kid',\n",
    "    'OTHER': 'other'\n",
    "}"
   ]
  },
  {
   "cell_type": "code",
   "execution_count": 176,
   "metadata": {},
   "outputs": [],
   "source": [
    "df.rename(columns=column_rename_map, inplace=True)"
   ]
  },
  {
   "cell_type": "code",
   "execution_count": 177,
   "metadata": {},
   "outputs": [],
   "source": [
    "#extract tags to identify if its a class reunion\n",
    "import re"
   ]
  },
  {
   "cell_type": "code",
   "execution_count": 178,
   "metadata": {},
   "outputs": [],
   "source": [
    "def extract_study_programs(user_tags):\n",
    "    if pd.isna(user_tags):  # Handle missing values\n",
    "        return None\n",
    "    \n",
    "    # Updated regex pattern to match both full and short study program formats\n",
    "    pattern = r'\\b[A-Z]+(?:-[A-Za-z]+)?(?: -)? [A-Z]{3}-\\d{4}\\b'\n",
    "    \n",
    "    # Find all matching study-related tags\n",
    "    matches = re.findall(pattern, user_tags)\n",
    "    \n",
    "    return matches if matches else None  # Return list of matches or None if no matches found\n",
    "\n",
    "# Apply function to extract all study program tags\n",
    "df['study_programs'] = df['user_tags'].apply(extract_study_programs)"
   ]
  },
  {
   "cell_type": "code",
   "execution_count": 179,
   "metadata": {},
   "outputs": [],
   "source": [
    "# Expand the Study Programs column into multiple new columns\n",
    "max_tags = df['study_programs'].dropna().apply(len).max()  # Find max number of tags per person\n",
    "\n",
    "# Create new columns dynamically\n",
    "for i in range(max_tags):\n",
    "    df[f'study_programs {i+1}'] = df['study_programs'].apply(lambda x: x[i] if x and len(x) > i else None)\n",
    "\n",
    "# Drop the original list column (optional)\n",
    "df.drop(columns=['study_programs'], inplace=True)"
   ]
  },
  {
   "cell_type": "code",
   "execution_count": 180,
   "metadata": {},
   "outputs": [],
   "source": [
    "# Define reunion tags with full years instead of two-digit years\n",
    "\n",
    "reunion_tags = [\n",
    "    \"imba ene-2019\", \"mim feb-2019\", \"gxmba may-2018\", \"gxmba oct-2018\", \"imba sep-2018\", \"mim sep-2018\", \"mrcb oct-2013\",\n",
    "    \"exmplst abr-2013\", \"imba abr-2013\", \"gxmba jun-2013\", \"gxmba nov-2013\", \"imba nov-2013\", \"mim sep-2013\", \"emba-en abr-2013\",\n",
    "    \"emba-en nov-2008\", \"mim oct-2008\", \"imba abr-2008\", \"ixmba jun-2008\", \"gxmba may-2008\", \"imba nov-2008\",\n",
    "    \"emba-es-s (exmba) oct-2008\", \"ixmba nov-2003\", \"mba feb-2004\", \"ixmba jun-2003\", \"imba-eng nov-2003\", \"emba-es-s feb-2003\",\n",
    "    \"emba-es-s oct-2003\", \"emba-es-s feb-2004\", \"mba oct-2003\", \"emba-es-s (exmba) feb-1999\", \"mba feb-1999\",\n",
    "    \"emba-es-s (exmba) oct-1998\", \"mba oct-1998\", \"mide oct-1998\", \"mide oct-1993\", \"mba oct-1993\", \"mba feb-1994\",\n",
    "    \"mide feb-1989\", \"mba oct-1988\", \"bba sep-2015\", \"bbabir sep-2014\", \"bir sep-2015\", \"llbbir sep-2014\", \"bar sep-2014\",\n",
    "    \"mbd abr-2018\", \"mbds oct-2018\", \"mbd-pt ene-2018\", \"mcs oct-2018\", \"mamd feb-2018\", \"mir oct-2018\", \"mid oct-2018\",\n",
    "    \"mamd feb-2013\", \"mbd oct-2013\", \"mir oct-2013\", \"mir oct-2008\", \"llmibl oct-2018\", \"maj feb-2014\", \"maj oct-2013\",\n",
    "    \"majd oct-2013\", \"maf oct-2013\", \"maf oct-2008\", \"maj-pwc sep-2008\", \"maj oct-2008\", \"majp nov-2008\", \"maj feb-2009\",\n",
    "    \"maj oct-2003\", \"maj feb-2004\", \"maf feb-1999\", \"maf oct-1998\", \"maj feb-1999\", \"maj oct-1998\", \"maj oct-1993\",\n",
    "    \"maj feb-1994\", \"maf oct-1993\", \"maf feb-1994\", \"maf oct-1988\", \"maj oct-1988\", \"maj feb-1989\", \"mbap oct-2003\",\n",
    "    \"ie-smu mba nov-2018\", \"miaf ene-2014\", \"gmba-esp-s nov-2012\", \"emba-es-s (exmbaq) may-2008\", \"emba-es-s (exmba) oct-1993\",\n",
    "    \"gmba-en-bl oct-2017\", \"mcc oct-2013\", \"gmba-en-bf sep-2013\", \"emba-es-s feb-2014\", \"emba-en nov-2012\", \"exmplst abr-2018\",\n",
    "    \"gmba-en-bf nov-2012\", \"emba-es-s oct-2013\", \"mba 1984\", \"bba sep-2010\", \"mim feb-2014\"\n",
    "]\n"
   ]
  },
  {
   "cell_type": "code",
   "execution_count": 181,
   "metadata": {},
   "outputs": [],
   "source": [
    "# Define the reunion years\n",
    "reunion_years = {2019, 2014, 2009, 2004, 1999, 1994, 1989, 1984, 1979, 1974, 1969}"
   ]
  },
  {
   "cell_type": "code",
   "execution_count": 182,
   "metadata": {},
   "outputs": [],
   "source": [
    "# Find all columns that contain study program data\n",
    "study_program_columns = [col for col in df.columns if \"study_program\" in col]"
   ]
  },
  {
   "cell_type": "code",
   "execution_count": 183,
   "metadata": {},
   "outputs": [],
   "source": [
    "def check_reunion(row):\n",
    "    # Get all study programs for a person, ignoring NaNs\n",
    "    study_programs = row[study_program_columns].dropna().tolist()\n",
    "    \n",
    "    # Normalize to lowercase\n",
    "    study_programs = [program.lower() for program in study_programs]\n",
    "    \n",
    "    # Check if any study program matches a reunion tag\n",
    "    if any(program in reunion_tags for program in study_programs):\n",
    "        return \"Yes\"\n",
    "    \n",
    "    # If not in reunion tags, check the graduation year logic\n",
    "    try:\n",
    "        year = int(row[\"graduation_year\"])\n",
    "        if year in reunion_years:\n",
    "            return \"Possible\"\n",
    "        else:\n",
    "            return \"No\"\n",
    "    except (ValueError, TypeError):\n",
    "        return \"Unknown\""
   ]
  },
  {
   "cell_type": "code",
   "execution_count": 184,
   "metadata": {},
   "outputs": [],
   "source": [
    "# Apply function to determine if someone is celebrating a class reunion\n",
    "df[\"class_reunion\"] = df.apply(check_reunion, axis=1)"
   ]
  },
  {
   "cell_type": "code",
   "execution_count": 185,
   "metadata": {},
   "outputs": [],
   "source": [
    "# Ensure partners also get the same class reunion status\n",
    "def assign_partner_reunion(df):\n",
    "    alumni_reunion_status = {}\n",
    "    \n",
    "    for _, row in df.iterrows():\n",
    "        if row[\"ie_alumni\"] == \"Yes\" and row[\"class_reunion\"] in [\"Yes\", \"Possible\"]:\n",
    "            key = (row[\"user_tags\"], row[\"net_id\"])\n",
    "            alumni_reunion_status[key] = row[\"class_reunion\"]\n",
    "    \n",
    "    for idx, row in df.iterrows():\n",
    "        if row[\"ie_alumni\"] == \"No\":\n",
    "            key = (row[\"user_tags\"], row[\"net_id\"])\n",
    "            if key in alumni_reunion_status:\n",
    "                df.at[idx, \"class_reunion\"] = alumni_reunion_status[key]\n",
    "\n",
    "assign_partner_reunion(df)"
   ]
  },
  {
   "cell_type": "code",
   "execution_count": 186,
   "metadata": {},
   "outputs": [
    {
     "data": {
      "text/plain": [
       "Index(['account_type', 'member_tags', 'user_tags', 'rsvp', 'registration_date',\n",
       "       'registration_option', 'ie_alumni', 'graduation_year', 'degree',\n",
       "       'country', 'region', 'networking_preference',\n",
       "       'allergies_dietary_restrictions', 'volunteer_roles', 'paid',\n",
       "       'payment_status', 'payment_date', 'checked_in_date', 'net_id',\n",
       "       'gateway_number', 'event_registration_uid', 'refunded', 'gaw', 'gala',\n",
       "       'kid', 'other', 'study_programs 1', 'study_programs 2',\n",
       "       'study_programs 3', 'study_programs 4', 'study_programs 5',\n",
       "       'study_programs 6', 'study_programs 7', 'study_programs 8',\n",
       "       'study_programs 9', 'study_programs 10', 'study_programs 11',\n",
       "       'class_reunion'],\n",
       "      dtype='object')"
      ]
     },
     "execution_count": 186,
     "metadata": {},
     "output_type": "execute_result"
    }
   ],
   "source": [
    "df.columns"
   ]
  },
  {
   "cell_type": "code",
   "execution_count": 187,
   "metadata": {},
   "outputs": [],
   "source": [
    "#We classify the alumni per school\n",
    "\n",
    "# Define mapping of study programs to schools\n",
    "program_to_school = {\n",
    "    \"IMBA\": \"Business School\",\n",
    "    \"MBA\": \"Business School\",\n",
    "    \"MIM\": \"Business School\",\n",
    "    \"GXMBA\": \"Business School\",\n",
    "    \"EMBA\": \"Business School\",\n",
    "    \"IXMBA\": \"Business School\",\n",
    "    \"GMBA\": \"Business School\",\n",
    "    \"LLMIBL\": \"Law School\",\n",
    "    \"MAJ\": \"Law School\",\n",
    "    \"MAJD\": \"Law School\",\n",
    "    \"MAF\": \"Law School\",\n",
    "    \"BAR\": \"School of Architecture and Design\",\n",
    "    \"BBA\": \"Business School\",\n",
    "    \"BBABIR\": \"School of Social Sciences\",\n",
    "    \"BIR\": \"School of Social Sciences\",\n",
    "    \"LLBBIR\": \"School of Social Sciences\",\n",
    "    \"LLB\": \"Law School\",\n",
    "    \"MBD\": \"School of Science and Technology\",\n",
    "    \"MAMD\": \"School of Architecture and Design\",\n",
    "    \"MIR\": \"School of Social Sciences\",\n",
    "    \"MID\": \"School of Architecture and Design\",\n",
    "    \"MIDE\": \"Business School\",\n",
    "    \"IEBEXMBA\": \"Business School\",\n",
    "    \"MDGM\": \"Business School\",\n",
    "    \"MRCB\": \"Business School\",\n",
    "    \"MIF\": \"Business School\",\n",
    "    \"TechMBA\": \"School of Science and Technology\",\n",
    "    \"MIM-English\": \"Business School\",\n",
    "    \"MIM-Spanish\": \"Business School\",\n",
    "    \"GMRED\": \"Business School\",\n",
    "    \"EMBA-EN-BL\": \"Business School\",\n",
    "    \"EXMBA\": \"Business School\",\n",
    "    \"MVDM\": \"Business School\",\n",
    "    \"MAJ-PWC\": \"Law School\",\n",
    "    \"EXMPLT\": \"Business School\",\n",
    "    \"MCC\": \"Business School\",\n",
    "    \"Master in Marketing\": \"Business School\",\n",
    "    \"GOMBA\": \"Business School\",\n",
    "    \"Communication & Digital media\": \"Business School\",\n",
    "    \"Master in Costumer Behaviour\": \"Business School\",\n",
    "    \"Master in Marketing\": \"Business School\",\n",
    "    \"Law Studies\": \"Law School\",\n",
    "    \"International Relations\": \"School of Social Sciences\",\n",
    "    \"Coaching & Leadership\": \"Business School\",\n",
    "    \"Architecture Studies\": \"School of Architecture and Design\",\n",
    "    \"EXEC.ED\": \"Executive Education\",\n",
    "    \"PHD\": \"Business School\",\n",
    "    \"Other\": \"Executive Education\",\n",
    "    \"Unknow\": \"Executive Education\"\n",
    "}"
   ]
  },
  {
   "cell_type": "code",
   "execution_count": 188,
   "metadata": {},
   "outputs": [],
   "source": [
    "# Standardized degree categories\n",
    "degree_mapping = {\n",
    "    # imba - international mba\n",
    "    'IMBA': [\n",
    "        'imba', 'international mba', 'international mba (english)', 'international mba (español)',\n",
    "        'imba ', 'imba 2013', 'imba 2012', 'imba + master in business analytics and big data',\n",
    "        'international mba ', 'imba (mba)', 'international mba mide', 'international mba (mide)', 'mide'\n",
    "    ],\n",
    "\n",
    "    # gomba - global online mba\n",
    "    'GOMBA': [\n",
    "        'gomba', 'global online mba', 'global mba english blended', 'global mba+ español semanal',\n",
    "        'global mba english blended  (face to face every six weeks)', 'global mba+ español semanal'\n",
    "    ],\n",
    "\n",
    "    # emba - executive mba\n",
    "    'EMBA': [\n",
    "        'emba', 'executive mba', 'executive mba english', 'executive mba español', 'executive mba blended',\n",
    "        'executive mba english blended', 'executive mba español blended', 'executive mba español presencial semanal',\n",
    "        'executive mba+ english bi-weekly', 'emba2022', 'executive master of business administration',\n",
    "        'executive mba ', 'executive mba español blended online', 'executive mba español blended',\n",
    "        'executive mba español blended online', 'executive mba part-time', 'executive mba blended online',\n",
    "        'executive mba+ english bi-weekly', 'exmba 90', 'exmba', 'executive mba bi-weekly',\n",
    "        'executive mba español blended', 'executive mba español blended online', 'executive mba part time'\n",
    "    ],\n",
    "\n",
    "    # gxmba - global executive mba\n",
    "    'GXMBA': [\n",
    "        'gxmba', 'global executive mba', 'international executive mba', 'ie brown executive mba',\n",
    "        'global executive mba bi-weekly', 'international executive mba bi-weekly'\n",
    "    ],\n",
    "\n",
    "    # standard mba (if it doesn't fit into the categories above)\n",
    "    'MBA': [\n",
    "        'mba', 'mba part-time', 'mba ', 'mba - iim lucknow', 'mba (mba)', 'mba part time',\n",
    "        'mbap', 'global mba', 'global mba ', 'global mba english', 'global mba blended', \n",
    "        'mba international', 'mba global', 'global m.b.a.', 'mba - iim lucknow', 'master in business administration',\n",
    "        'master business administration'\n",
    "    ],\n",
    "    \n",
    "    # mim - master in management\n",
    "    'MIM': [\n",
    "        'master in management', 'mim', 'mmim', 'masters in management', 'master in international management'\n",
    "    ],\n",
    "    \n",
    "    # mif - master in finance\n",
    "    'MIF': [\n",
    "        'master in finance', 'master in advanced finance', 'master in finance & master in management'\n",
    "    ],\n",
    "    \n",
    "    # master in marketing\n",
    "    'Master in Marketing': [\n",
    "        'master in marketing', 'master in marketing management', 'master in digital marketing',\n",
    "        'master in digital marketing part time', \"mmm\"\n",
    "    ],\n",
    "    \n",
    "    # mbabd - master in business analytics & big data\n",
    "    'MBD': [\n",
    "        'master in business analytics and big data', 'business analytics', 'mbd pt 2022'\n",
    "    ],\n",
    "\n",
    "    'Master in Costumer Behaviour': [\n",
    "        'master in market research &amp; consumer behavior', 'master in market research & consumer behavior',\n",
    "        'master in customer experience and innovation' \n",
    "    ],    \n",
    "    \n",
    "    # bba - bachelor in business administration\n",
    "    'BBA': [\n",
    "        'bba', 'bachelor in business administration', 'bachelor in business administration madrid campus',\n",
    "        'bachelor in business administration segovia campus', 'dual degree bachelor in business administration', \n",
    "        'grado en administración de empresas campus de segovia', 'grado en administración de empresas campus de madrid'\n",
    "    ],\n",
    "    \n",
    "    # law masters\n",
    "    'Law Studies': [\n",
    "        'llm', 'law', 'master in laws', 'doble máster en abogacía', 'doble máster en abogacía y asesoría jurídica',\n",
    "        'llm in international business law', 'master en asesoría jurídica de empresas', 'master in legaltech',\n",
    "        'master in legal tech', 'doble master en abogacía, emprendimiento y tecnología', 'maj 1999', \"maj\", 'máster ejecutivo en asesoría jurídica de los negocios',\n",
    "        'master en asesoría jurídica/fiscal ie/pwc tax and legal services'\n",
    "    ],\n",
    "    \n",
    "    # phd programs\n",
    "    'PHD': [\n",
    "        'phd', 'ph. d.', 'ph.d', 'ph.d. candidate', 'phd in medicine'\n",
    "    ],\n",
    "    \n",
    "    # architecture\n",
    "    'Architecture Studies': [\n",
    "        'bachelor in architecture', 'architecture', 'mamd - master in architectural management and design',\n",
    "        'master in architectural management and design', 'bachelor in architectural studies'\n",
    "    ],\n",
    "    \n",
    "    # international relations & politics\n",
    "    'International Relations': [\n",
    "        'master in international relations', 'ms. international relations', 'international relations', 'master in international development'\n",
    "    ],\n",
    "    \n",
    "    # communication & digital media\n",
    "    'Communication & Digital media': [\n",
    "        'master in corporate communication', 'master in corporate and marketing communication',\n",
    "        'bachelor in communication and digital media segovia campus', 'mdcm', 'master in visual and digital media',\n",
    "        'bachelor in design', 'master in graphic design'\n",
    "    ],\n",
    "    \n",
    "    # coaching & leadership\n",
    "    'Coaching & Leadership': [\n",
    "        'psychology', 'executive coaching', 'executive coaching ', 'programa de dirección en coaching ejecutivo',\n",
    "        'executive master in positive leadership & transformation', 'master in positive leadership and transformation',\n",
    "        'executive master in positive leadership and strategy', 'programa de dirección estratégica de personas y talento'\n",
    "    ],\n",
    "    \n",
    "    \"GMRED\": [\"gmred\", \"global master in real estate development\" ],\n",
    "    \n",
    "    # other degrees\n",
    "    'EXEC.ED': [\n",
    "        'advanced management program', 'amp intensive', 'global senior management program', 'gsmp',\n",
    "        'senior management program', 'owners scale-up program blended', 'energy forum', 'exmba 90',\n",
    "        'advanced management program zaragoza', 'advanced management program madrid', 'programa ejecutivo', \"advanced master program\",\n",
    "        \"amp 2013\"\n",
    "    ]\n",
    "}\n"
   ]
  },
  {
   "cell_type": "code",
   "execution_count": 189,
   "metadata": {},
   "outputs": [],
   "source": [
    "# Function to clean and standardize degrees\n",
    "def clean_degree(degree, alumni_status):\n",
    "    if pd.isna(degree) or str(degree).strip().lower() in ['na', 'n/a', '-', 'not applicable']:\n",
    "        return \"Unknown\"\n",
    "    \n",
    "    degree_lower = str(degree).strip().lower()\n",
    "    \n",
    "    # Assign categories based on predefined mapping\n",
    "    for standard, variations in degree_mapping.items():\n",
    "        if any(variation in degree_lower for variation in variations):\n",
    "            return standard\n",
    "    \n",
    "    # Assign \"Not Applicable\" for non-alumni\n",
    "    if alumni_status.lower() == \"no\":\n",
    "        return \"Not Applicable\"\n",
    "    \n",
    "    return \"Other\""
   ]
  },
  {
   "cell_type": "code",
   "execution_count": 190,
   "metadata": {},
   "outputs": [],
   "source": [
    "# Apply function to clean degrees\n",
    "df['degree_cleaned'] = df.apply(lambda x: clean_degree(x['degree'], x['ie_alumni']), axis=1)"
   ]
  },
  {
   "cell_type": "code",
   "execution_count": 191,
   "metadata": {},
   "outputs": [],
   "source": [
    "# Function to determine school based on both study programs and cleaned degree\n",
    "def get_school(row):\n",
    "    study_programs = row[study_program_columns].dropna().tolist()  # Get all study programs\n",
    "\n",
    "    # Check study program mappings first\n",
    "    for program in study_programs:\n",
    "        for key in program_to_school:\n",
    "            if key in program:\n",
    "                return program_to_school[key]  # Return first match\n",
    "\n",
    "    # If no match, check cleaned degree\n",
    "    cleaned_degree = row[\"degree_cleaned\"]\n",
    "    if cleaned_degree in program_to_school:\n",
    "        return program_to_school[cleaned_degree]\n",
    "\n",
    "    return \"Unknown\"  # If no match is found, label as unknown\n",
    "\n",
    "# Apply function to determine the school\n",
    "df[\"school\"] = df.apply(get_school, axis=1)"
   ]
  },
  {
   "cell_type": "code",
   "execution_count": 192,
   "metadata": {},
   "outputs": [],
   "source": [
    "df[\"ie_alumni\"] = df[\"ie_alumni\"].fillna(\"\").replace(\"\", \"No\")"
   ]
  },
  {
   "cell_type": "code",
   "execution_count": 193,
   "metadata": {},
   "outputs": [],
   "source": [
    "df.loc[df[\"ie_alumni\"] == \"No\", \"school\"] = \"Not Applicable\""
   ]
  },
  {
   "cell_type": "code",
   "execution_count": 194,
   "metadata": {},
   "outputs": [],
   "source": [
    "df.loc[df[\"ie_alumni\"] == \"No\", \"graduation_year\"] = 0"
   ]
  },
  {
   "cell_type": "code",
   "execution_count": 195,
   "metadata": {},
   "outputs": [],
   "source": [
    "df[\"graduation_year\"] = pd.to_numeric(df[\"graduation_year\"], errors='coerce')"
   ]
  },
  {
   "cell_type": "code",
   "execution_count": 196,
   "metadata": {},
   "outputs": [],
   "source": [
    "df[\"graduation_year\"] = df[\"graduation_year\"].convert_dtypes()"
   ]
  },
  {
   "cell_type": "code",
   "execution_count": 197,
   "metadata": {},
   "outputs": [
    {
     "data": {
      "text/plain": [
       "0                         Club Leaders\n",
       "1       Gala Dinner Spring Sale Ticket\n",
       "2                         Club Leaders\n",
       "3                         Club Leaders\n",
       "4       Gala Dinner Spring Sale Ticket\n",
       "                     ...              \n",
       "1152                        GAW Ticket\n",
       "1153                        GAW Ticket\n",
       "1154                        GAW Ticket\n",
       "1155                        Volunteers\n",
       "1156                        Volunteers\n",
       "Name: registration_option, Length: 1157, dtype: object"
      ]
     },
     "execution_count": 197,
     "metadata": {},
     "output_type": "execute_result"
    }
   ],
   "source": [
    "df[\"registration_option\"]"
   ]
  },
  {
   "cell_type": "code",
   "execution_count": 198,
   "metadata": {},
   "outputs": [],
   "source": [
    "def classify_ticket_buyer(option):\n",
    "    if pd.isna(option):\n",
    "        return \"Unknown\"\n",
    "    if \"club leaders\" in option.lower():\n",
    "        return \"Club Leader\"\n",
    "    elif \"class reunion committee members\" in option.lower():\n",
    "        return \"Class Reunion Committe Member\"\n",
    "    else:\n",
    "        return \"Normal Attendee\""
   ]
  },
  {
   "cell_type": "code",
   "execution_count": 199,
   "metadata": {},
   "outputs": [],
   "source": [
    "df[\"ticket_buyer\"] = df[\"registration_option\"].apply(classify_ticket_buyer)"
   ]
  },
  {
   "cell_type": "code",
   "execution_count": 200,
   "metadata": {},
   "outputs": [],
   "source": [
    "def bundle_ticket(option):\n",
    "    if pd.isna(option):\n",
    "        return \"Unknown\"\n",
    "    if \"gaw + gala dinner\" in option.lower():\n",
    "        return \"Bundle Ticket\"\n",
    "    else:\n",
    "        return \"Normal Ticket\""
   ]
  },
  {
   "cell_type": "code",
   "execution_count": 201,
   "metadata": {},
   "outputs": [],
   "source": [
    "df[\"bundle_ticket\"] = df[\"registration_option\"].apply(bundle_ticket)"
   ]
  },
  {
   "cell_type": "code",
   "execution_count": 202,
   "metadata": {},
   "outputs": [],
   "source": [
    "# Define the desired column order\n",
    "base_columns = ['account_type', 'rsvp', 'registration_date',\n",
    "    'registration_option', 'ie_alumni', 'graduation_year', 'degree','class_reunion', 'school',\n",
    "    'country', 'region', 'networking_preference',\n",
    "    'allergies_dietary_restrictions', 'volunteer_roles', 'paid',\n",
    "    'payment_status', 'payment_date', 'checked_in_date', 'net_id',\n",
    "    'gateway_number', 'event_registration_uid', 'refunded', 'gaw', 'gala',\n",
    "    'kid', 'other','member_tags', 'user_tags', \"school\", \"degree_cleaned\", \"ticket_buyer\", \"bundle_ticket\"\n",
    "]"
   ]
  },
  {
   "cell_type": "code",
   "execution_count": 203,
   "metadata": {},
   "outputs": [],
   "source": [
    "study_program_columns = sorted(\n",
    "    [col for col in df.columns if col.startswith(\"study_programs\")],\n",
    "    key=lambda x: int(re.search(r'\\d+', x).group()) if re.search(r'\\d+', x) else 0\n",
    ")\n",
    "\n",
    "# Combine static columns with dynamically detected \"Study Program\" columns\n",
    "final_column_order = base_columns + study_program_columns\n",
    "\n",
    "# Reorder the dataframe, ignoring any missing columns\n",
    "df_reordered = df[[col for col in final_column_order if col in df.columns]]"
   ]
  },
  {
   "cell_type": "code",
   "execution_count": 204,
   "metadata": {},
   "outputs": [],
   "source": [
    "df_sorted = df_reordered.sort_values(by=\"payment_date\", ascending=True)"
   ]
  },
  {
   "cell_type": "code",
   "execution_count": 205,
   "metadata": {},
   "outputs": [],
   "source": [
    "# Define ticket categories\n",
    "ticket_categories = {\n",
    "    \"Early Bird\": [\n",
    "        \"GAW Early Bird Ticket\"\n",
    "    ],\n",
    "    \"Spring Sale\": [\n",
    "        \"Gala Dinner Spring Sale Ticket\", \n",
    "        \"GAW Spring Sale Ticket\", \n",
    "        \"GAW + Gala Dinner Spring Sale Ticket\"\n",
    "    ],\n",
    "    \"Full Price\": [\n",
    "        \"GAW Ticket\", \n",
    "        \"Gala Dinner Ticket\", \n",
    "        \"GAW + Gala Dinner Ticket\", \n",
    "        \"Kids Area Ticket\"\n",
    "    ],\n",
    "    \"Special Price\": [\n",
    "        \"Class Reunion Committee Members\", \n",
    "        \"Club Leaders\", \n",
    "        \"Asociados AAA\"\n",
    "    ],\n",
    "    \"Free\": [\n",
    "        \"IE Faculty members\", \n",
    "        \"Volunteers\", \n",
    "        \"GAR Team\", \n",
    "        \"Special Invitation GAW 2024\", \n",
    "        \"EPIC Awards\", \n",
    "        \"GAR Team Gala\", \n",
    "        \"Special Invitation Gala 2024\", \n",
    "        \"Collaborators\"\n",
    "    ]\n",
    "}"
   ]
  },
  {
   "cell_type": "code",
   "execution_count": 206,
   "metadata": {},
   "outputs": [],
   "source": [
    "# Create a mapping dictionary\n",
    "category_mapping = {option: category for category, options in ticket_categories.items() for option in options}\n",
    "\n",
    "# Apply the mapping to create a new column\n",
    "df_sorted[\"ticket_category\"] = df_sorted[\"registration_option\"].map(category_mapping)"
   ]
  },
  {
   "cell_type": "code",
   "execution_count": 207,
   "metadata": {},
   "outputs": [],
   "source": [
    "df_sorted.to_excel(\"ready_data.xlsx\", index=False)"
   ]
  }
 ],
 "metadata": {
  "kernelspec": {
   "display_name": "base",
   "language": "python",
   "name": "python3"
  },
  "language_info": {
   "codemirror_mode": {
    "name": "ipython",
    "version": 3
   },
   "file_extension": ".py",
   "mimetype": "text/x-python",
   "name": "python",
   "nbconvert_exporter": "python",
   "pygments_lexer": "ipython3",
   "version": "3.12.4"
  }
 },
 "nbformat": 4,
 "nbformat_minor": 2
}
